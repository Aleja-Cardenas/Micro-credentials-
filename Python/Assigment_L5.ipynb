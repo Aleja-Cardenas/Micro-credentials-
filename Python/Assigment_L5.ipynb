{
  "nbformat": 4,
  "nbformat_minor": 0,
  "metadata": {
    "colab": {
      "name": "Alejandra- Assigment #L5.ipynb",
      "provenance": [],
      "authorship_tag": "ABX9TyPFvuoEswqJJ1WinV1XcPyC",
      "include_colab_link": true
    },
    "kernelspec": {
      "name": "python3",
      "display_name": "Python 3"
    },
    "language_info": {
      "name": "python"
    }
  },
  "cells": [
    {
      "cell_type": "markdown",
      "metadata": {
        "id": "view-in-github",
        "colab_type": "text"
      },
      "source": [
        "<a href=\"https://colab.research.google.com/github/Aleja-Cardenas/Micro-credentials-/blob/main/Python/Assigment_L5.ipynb\" target=\"_parent\"><img src=\"https://colab.research.google.com/assets/colab-badge.svg\" alt=\"Open In Colab\"/></a>"
      ]
    },
    {
      "cell_type": "code",
      "execution_count": null,
      "metadata": {
        "colab": {
          "base_uri": "https://localhost:8080/"
        },
        "id": "k2okYx9tql1_",
        "outputId": "ac05c925-1a31-4cca-a02a-0bae85f8eb86"
      },
      "outputs": [
        {
          "output_type": "stream",
          "name": "stdout",
          "text": [
            "Hi! Welcome to morning start\n",
            "Hi! Welcome to morning start\n",
            "Hi! Welcome to morning start\n",
            "Welcome back! Dear administrator\n",
            "Hi! Welcome to morning start\n"
          ]
        }
      ],
      "source": [
        "# Question 1 - a&b\n",
        "usernames_names= [\"dep_1_tom\", \"fast_jim\", \"smith_TKD\", \"Javier_dep2\", \"bubble_snowflake\"]\n",
        "for admin in usernames_names:\n",
        " if admin == \"Javier_dep2\": \n",
        "  print(\"Welcome back! Dear administrator\")\n",
        " else:\n",
        "  print(\"Hi! Welcome to morning start\")"
      ]
    },
    {
      "cell_type": "code",
      "source": [
        "# Question 2 & b\n",
        "numbers_list= list(range(1,10)) \n",
        "for number in numbers_list:\n",
        "\n",
        " if number ==1:\n",
        "  print(\"1st\")\n",
        " elif number==2:\n",
        "  print(\"2nd\")\n",
        " elif number ==3:\n",
        "  print(\"3rd\")\n",
        " else:\n",
        "  print(str(number)+\"th\")"
      ],
      "metadata": {
        "colab": {
          "base_uri": "https://localhost:8080/"
        },
        "id": "i7g4Lla_yRm0",
        "outputId": "b1cfa484-fa14-4d6a-df4f-ec816252df79"
      },
      "execution_count": null,
      "outputs": [
        {
          "output_type": "stream",
          "name": "stdout",
          "text": [
            "1st\n",
            "2nd\n",
            "3rd\n",
            "4th\n",
            "5th\n",
            "6th\n",
            "7th\n",
            "8th\n",
            "9th\n"
          ]
        }
      ]
    }
  ]
}