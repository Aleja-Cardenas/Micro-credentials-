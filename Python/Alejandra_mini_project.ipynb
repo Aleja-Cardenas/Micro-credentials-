{
  "nbformat": 4,
  "nbformat_minor": 0,
  "metadata": {
    "colab": {
      "name": "Alejandra-mini-project.ipynb",
      "provenance": [],
      "authorship_tag": "ABX9TyOJBgMhrjqh2RglQBeIDjLI",
      "include_colab_link": true
    },
    "kernelspec": {
      "name": "python3",
      "display_name": "Python 3"
    },
    "language_info": {
      "name": "python"
    }
  },
  "cells": [
    {
      "cell_type": "markdown",
      "metadata": {
        "id": "view-in-github",
        "colab_type": "text"
      },
      "source": [
        "<a href=\"https://colab.research.google.com/github/Aleja-Cardenas/Micro-credentials-/blob/main/Python/Alejandra_mini_project.ipynb\" target=\"_parent\"><img src=\"https://colab.research.google.com/assets/colab-badge.svg\" alt=\"Open In Colab\"/></a>"
      ]
    },
    {
      "cell_type": "code",
      "execution_count": null,
      "metadata": {
        "colab": {
          "base_uri": "https://localhost:8080/"
        },
        "id": "7b0AhBzFOaYs",
        "outputId": "355789c9-3c30-484f-a62b-6ecfc8d16818"
      },
      "outputs": [
        {
          "output_type": "stream",
          "name": "stdout",
          "text": [
            "Please enter a number: 56\n",
            "You entered a even number\n"
          ]
        }
      ],
      "source": [
        "#Enter a number \n",
        "number= int(input(\"Please enter a number: \" ))\n",
        "answer = number % 2\n",
        "if answer >0:\n",
        "   print(\"You entered a odd number\")\n",
        "else:\n",
        "  print(\"You entered a even number\")\n"
      ]
    },
    {
      "cell_type": "code",
      "source": [
        "# Bonus part 1\n",
        "number= int(input(\"Please enter a number: \" ))\n",
        "if number % 4 == 0:\n",
        "  print(\"You entered a number multiple of 4\")\n",
        "elif number % 2 == 0:\n",
        "  print (\"You entered a even number\")\n",
        "else:\n",
        "  print(\"You entered a odd number\")\n"
      ],
      "metadata": {
        "colab": {
          "base_uri": "https://localhost:8080/"
        },
        "id": "ppfH-gK5aDql",
        "outputId": "87076f71-e624-4b02-9702-e68744ce66c3"
      },
      "execution_count": null,
      "outputs": [
        {
          "output_type": "stream",
          "name": "stdout",
          "text": [
            "Please enter a number: 24\n",
            "You entered a multiple of 4\n"
          ]
        }
      ]
    },
    {
      "cell_type": "code",
      "source": [
        "# Bonus part 2\n",
        "num = int(input(\"Please enter a number to check: \" ))\n",
        "check = int(input(\"Please enter a number to divide by:\"))\n",
        "if num % check ==0:\n",
        "  print(num, \"divides evely by\", check)\n",
        "else:\n",
        "  print(num, \"doesnot divide evenly by\", check)\n"
      ],
      "metadata": {
        "colab": {
          "base_uri": "https://localhost:8080/"
        },
        "id": "7saoy_Gef-6q",
        "outputId": "a1c7d03b-d291-40c7-f3b0-72dc10d2284a"
      },
      "execution_count": null,
      "outputs": [
        {
          "output_type": "stream",
          "name": "stdout",
          "text": [
            "Please enter a number to check: 34\n",
            "Please enter a number to divide by:45\n",
            "34 doesnot divide evenly by 45\n"
          ]
        }
      ]
    }
  ]
}