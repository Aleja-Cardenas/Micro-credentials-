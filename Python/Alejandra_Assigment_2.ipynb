{
  "nbformat": 4,
  "nbformat_minor": 0,
  "metadata": {
    "colab": {
      "name": "Alejandra- Assigment #1.ipynb",
      "provenance": [],
      "authorship_tag": "ABX9TyMEp0FzOo+xJ9OjXiuu5gcx",
      "include_colab_link": true
    },
    "kernelspec": {
      "name": "python3",
      "display_name": "Python 3"
    },
    "language_info": {
      "name": "python"
    }
  },
  "cells": [
    {
      "cell_type": "markdown",
      "metadata": {
        "id": "view-in-github",
        "colab_type": "text"
      },
      "source": [
        "<a href=\"https://colab.research.google.com/github/Aleja-Cardenas/Micro-credentials-/blob/main/Python/Alejandra_Assigment_2.ipynb\" target=\"_parent\"><img src=\"https://colab.research.google.com/assets/colab-badge.svg\" alt=\"Open In Colab\"/></a>"
      ]
    },
    {
      "cell_type": "markdown",
      "source": [
        "Question #1\n",
        "\n",
        "*   Python is a high level programming langugue, interactive and easy to perform data analytics and visualization. \n",
        "*   It is useful becasue it can work with big datasets, perform complex operations, it has automated process, and it is a time saver. \n",
        "\n"
      ],
      "metadata": {
        "id": "9Ipw-_bBZmdD"
      }
    },
    {
      "cell_type": "markdown",
      "source": [
        " Question #2\n",
        "1. 1_message= Yes\n",
        "2. Greeting message= No\n",
        "3. Message_1 = YES\n",
        "4. First name= No\n",
        "5. Full name= No\n"
      ],
      "metadata": {
        "id": "yrfFyAwfY2EV"
      }
    },
    {
      "cell_type": "code",
      "source": [
        "# Question 3\n",
        "message = \"hello there\"\n",
        "print(message)"
      ],
      "metadata": {
        "colab": {
          "base_uri": "https://localhost:8080/"
        },
        "id": "p19HbXweYJXM",
        "outputId": "c79f5e13-3711-4c64-a523-285aa01cf02f"
      },
      "execution_count": null,
      "outputs": [
        {
          "output_type": "stream",
          "name": "stdout",
          "text": [
            "hello there\n"
          ]
        }
      ]
    },
    {
      "cell_type": "code",
      "execution_count": null,
      "metadata": {
        "colab": {
          "base_uri": "https://localhost:8080/"
        },
        "id": "HYWHZzsBVe3Q",
        "outputId": "383f3a5f-65f3-4cba-c678-aa0d6149bbac"
      },
      "outputs": [
        {
          "output_type": "stream",
          "name": "stdout",
          "text": [
            "AlejandraCardenas@gmail.com\n"
          ]
        }
      ],
      "source": [
        "# Question 4\n",
        "first_name = \"Alejandra\"\n",
        "last_name = \"Cardenas\"\n",
        "email_extension = \"@gmail.com\"\n",
        "email_address = first_name + last_name + email_extension\n",
        "print(email_address)"
      ]
    },
    {
      "cell_type": "code",
      "source": [
        "# Question 5\n",
        "name= \"Stephen Filippo\"\n",
        "print(name.upper())\n",
        "print(name.lower())"
      ],
      "metadata": {
        "colab": {
          "base_uri": "https://localhost:8080/"
        },
        "id": "vbmn1LbQcHTe",
        "outputId": "1eabf789-13d3-4e2b-fd68-598e2910a14f"
      },
      "execution_count": null,
      "outputs": [
        {
          "output_type": "stream",
          "name": "stdout",
          "text": [
            "STEPHEN FILIPPO\n",
            "stephen filippo\n"
          ]
        }
      ]
    },
    {
      "cell_type": "code",
      "source": [
        "# Question 6\n",
        "Date= 15\n",
        "print(\"Do you want to hang out on the\" + \" \" + str(Date) + \"th of this month?\")"
      ],
      "metadata": {
        "colab": {
          "base_uri": "https://localhost:8080/"
        },
        "id": "F-NOMbIzcvgb",
        "outputId": "e99df635-b5bf-419b-d1da-c54e93461884"
      },
      "execution_count": null,
      "outputs": [
        {
          "output_type": "stream",
          "name": "stdout",
          "text": [
            "Do you want to hang out on the 15th of this month?\n"
          ]
        }
      ]
    }
  ]
}