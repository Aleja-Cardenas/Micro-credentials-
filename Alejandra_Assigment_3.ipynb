{
  "nbformat": 4,
  "nbformat_minor": 0,
  "metadata": {
    "colab": {
      "name": "Alejandra- Assigment #3.ipynb",
      "provenance": [],
      "authorship_tag": "ABX9TyNn503eS8JZri+qBKYg+ema",
      "include_colab_link": true
    },
    "kernelspec": {
      "name": "python3",
      "display_name": "Python 3"
    },
    "language_info": {
      "name": "python"
    }
  },
  "cells": [
    {
      "cell_type": "markdown",
      "metadata": {
        "id": "view-in-github",
        "colab_type": "text"
      },
      "source": [
        "<a href=\"https://colab.research.google.com/github/Aleja-Cardenas/Micro-credentials-/blob/main/Alejandra_Assigment_3.ipynb\" target=\"_parent\"><img src=\"https://colab.research.google.com/assets/colab-badge.svg\" alt=\"Open In Colab\"/></a>"
      ]
    },
    {
      "cell_type": "code",
      "execution_count": null,
      "metadata": {
        "colab": {
          "base_uri": "https://localhost:8080/"
        },
        "id": "l6uzfJGcoX3F",
        "outputId": "7dcc3919-34e4-450a-ced8-e9250dbcc282"
      },
      "outputs": [
        {
          "output_type": "stream",
          "name": "stdout",
          "text": [
            "['Stranger things', 'Ozark', 'Lucifer', 'YOU', 'Prison Break']\n",
            "['Lucifer', 'Ozark', 'Prison Break', 'Stranger things', 'YOU']\n",
            "['Stranger things', 'Ozark', 'Lucifer', 'YOU', 'Prison Break']\n",
            "['YOU', 'Stranger things', 'Prison Break', 'Ozark', 'Lucifer']\n",
            "I have 5 favorite TV shows\n"
          ]
        }
      ],
      "source": [
        "# Question #1 \n",
        "favorite_TV_shows= [\"Stranger things\", \"Ozark\", \"Lucifer\", \"YOU\", \"Prison Break\"]\n",
        "\n",
        "# Question #2\n",
        "print(favorite_TV_shows)\n",
        "\n",
        "# Question #3 Sorted is only for a temporary sort list, it does not modify the orignal list. \n",
        "print(sorted(favorite_TV_shows))\n",
        "\n",
        "# Question #4\n",
        "print(favorite_TV_shows)\n",
        "\n",
        "# Question #5\n",
        "favorite_TV_shows.sort(reverse=True)\n",
        "print(favorite_TV_shows)\n",
        "\n",
        "# Question #6\n",
        "number= len(favorite_TV_shows)\n",
        "message= \"I have\" + \" \" + str(number) + \" \" + \"favorite TV shows\"\n",
        "print(message)"
      ]
    }
  ]
}