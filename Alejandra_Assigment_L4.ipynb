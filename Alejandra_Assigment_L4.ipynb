{
  "nbformat": 4,
  "nbformat_minor": 0,
  "metadata": {
    "colab": {
      "name": "Alejandra-Assigment #L4.ipynb",
      "provenance": [],
      "authorship_tag": "ABX9TyPMGaJiLmfO2VeEFc5iVh+b",
      "include_colab_link": true
    },
    "kernelspec": {
      "name": "python3",
      "display_name": "Python 3"
    },
    "language_info": {
      "name": "python"
    }
  },
  "cells": [
    {
      "cell_type": "markdown",
      "metadata": {
        "id": "view-in-github",
        "colab_type": "text"
      },
      "source": [
        "<a href=\"https://colab.research.google.com/github/Aleja-Cardenas/Micro-credentials-/blob/main/Alejandra_Assigment_L4.ipynb\" target=\"_parent\"><img src=\"https://colab.research.google.com/assets/colab-badge.svg\" alt=\"Open In Colab\"/></a>"
      ]
    },
    {
      "cell_type": "code",
      "execution_count": null,
      "metadata": {
        "colab": {
          "base_uri": "https://localhost:8080/"
        },
        "id": "ZR_gDm9A2rhk",
        "outputId": "492eaf03-81d6-44e6-b5cf-2b51de16742b"
      },
      "outputs": [
        {
          "output_type": "stream",
          "name": "stdout",
          "text": [
            "['blue', 'yellow', 'red', 'white', 'pink']\n",
            "blue\n",
            "yellow\n",
            "red\n",
            "white\n",
            "pink\n"
          ]
        }
      ],
      "source": [
        "# Question 1\n",
        "color_name= [\"blue\", \"yellow\", \"red\", \"white\", \"pink\"]\n",
        "print(color_name)\n",
        "\n",
        "# Question 2\n",
        "for color in color_name: \n",
        "  print(color)"
      ]
    },
    {
      "cell_type": "code",
      "source": [
        " # Qwuestion 3\n",
        " color_name= [\"blue\", \"yellow\", \"red\", \"white\", \"pink\"]\n",
        " for color in color_name: \n",
        "  print(color.title() + \",is my favorite color!\")"
      ],
      "metadata": {
        "colab": {
          "base_uri": "https://localhost:8080/"
        },
        "id": "1SK8yNlw4oXP",
        "outputId": "6124f2ca-8f85-4656-eed5-b34cb8f49de8"
      },
      "execution_count": null,
      "outputs": [
        {
          "output_type": "stream",
          "name": "stdout",
          "text": [
            "Blue,is my favorite color!\n",
            "Yellow,is my favorite color!\n",
            "Red,is my favorite color!\n",
            "White,is my favorite color!\n",
            "Pink,is my favorite color!\n"
          ]
        }
      ]
    },
    {
      "cell_type": "code",
      "source": [
        "# Question 4\n",
        "numbers = list(range(0,20,2))\n",
        "print(numbers)"
      ],
      "metadata": {
        "colab": {
          "base_uri": "https://localhost:8080/"
        },
        "id": "E6sv6Xv75PKc",
        "outputId": "248ba95b-de85-46d7-84d5-6d710bcaa450"
      },
      "execution_count": null,
      "outputs": [
        {
          "output_type": "stream",
          "name": "stdout",
          "text": [
            "[0, 2, 4, 6, 8, 10, 12, 14, 16, 18]\n"
          ]
        }
      ]
    },
    {
      "cell_type": "code",
      "source": [
        "# Question 5\n",
        "color_name= [\"blue\", \"yellow\", \"red\", \"white\", \"pink\"]\n",
        "color_name.sort()\n",
        "print(color_name)"
      ],
      "metadata": {
        "colab": {
          "base_uri": "https://localhost:8080/"
        },
        "id": "ldYJ_qC-mYrO",
        "outputId": "b818e65e-aaf3-491c-9364-097a9d275e36"
      },
      "execution_count": null,
      "outputs": [
        {
          "output_type": "stream",
          "name": "stdout",
          "text": [
            "['blue', 'pink', 'red', 'white', 'yellow']\n"
          ]
        }
      ]
    },
    {
      "cell_type": "code",
      "source": [
        "# Question 6\n",
        "color_name= [\"blue\", \"yellow\", \"red\", \"white\", \"pink\"]\n",
        "print(color_name[0:3])"
      ],
      "metadata": {
        "colab": {
          "base_uri": "https://localhost:8080/"
        },
        "id": "2hwopXMsm9ah",
        "outputId": "0a478251-1203-4c5c-a652-ad21b05eb32a"
      },
      "execution_count": null,
      "outputs": [
        {
          "output_type": "stream",
          "name": "stdout",
          "text": [
            "['blue', 'yellow', 'red']\n"
          ]
        }
      ]
    },
    {
      "cell_type": "code",
      "source": [
        "# Question 7\n",
        "color_name= [\"blue\", \"yellow\", \"red\", \"white\", \"pink\"]\n",
        "for colors in color_name[-2:]:\n",
        "  print(colors.title())"
      ],
      "metadata": {
        "colab": {
          "base_uri": "https://localhost:8080/"
        },
        "id": "aeFQxDRannFD",
        "outputId": "dcd925ac-f40c-4fe3-8c7e-c6000197114b"
      },
      "execution_count": null,
      "outputs": [
        {
          "output_type": "stream",
          "name": "stdout",
          "text": [
            "White\n",
            "Pink\n"
          ]
        }
      ]
    }
  ]
}